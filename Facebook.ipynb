{
 "cells": [
  {
   "cell_type": "code",
   "execution_count": 9,
   "metadata": {
    "collapsed": false
   },
   "outputs": [
    {
     "name": "stdout",
     "output_type": "stream",
     "text": [
      "25\n"
     ]
    }
   ],
   "source": [
    "# EAAWY4FuKY6MBAIAp0BaS5Xkbjjbn0y1i7AVfIk6OUWLYi1ZAaGkmcWdNtSps2rQaBgWbgdkF0PdUoPDaTpfVrmlSKLRV13H3HqDpmdCcKG8nvgkqx53IH0om9JWZCQc4aayWOr5VRdhYsy1mLc1eBZCZAgohGrsLZAWc8BHgT96O5p33gZC36mReheWuP409Ha7yPwpL9kuwZDZD\n",
    "import facebook\n",
    "import json\n",
    "import pandas as pd\n",
    "import time\n",
    "\n",
    "accesstoken='EAACEdEose0cBANhFZBiV3GbkG11PZBl30JEYC3hnB8jCPIbuVJBEy4XkEnjd0xmIzB8Vf90EO8pgbVWuQUOiv67yVIEFhVrDnPJrXxOHmewmMJ3r7OPuDVuY6NdMmePp1hZAPMVxtKZBsl6BZCdtns5cWE5dMQvSKV7V3iB2ZABZA80X3vg6hdOrApw2uMhgoUDpJJZCIIuIZAwZDZD'\n",
    "\n",
    "\n",
    "user = 'cneistat'\n",
    "\n",
    "graph = facebook.GraphAPI(accesstoken)\n",
    "profile = graph.get_object(user)\n",
    "\n",
    "\n",
    "posts = graph.get_connections(profile['id'], 'posts?summary=1')\n",
    "    \n",
    "facebook_data = []\n",
    "current_working_dir = \"./\"\n",
    "log_fb_data = current_working_dir + 'facebook_data.json'\n",
    "count=0\n",
    "with open(log_fb_data, 'w') as outfile:\n",
    "    for post in posts['data']:\n",
    "        facebook_data.append(json.loads(json.dumps(post)))\n",
    "        outfile.write(json.dumps(post))\n",
    "        outfile.write(\"\\n\")\n",
    "        count=count+1\n",
    "print(len(facebook_data))\n",
    "\n",
    "\n",
    "fb_posts = pd.DataFrame()\n",
    "fb_posts['id'] = list(map(lambda post: post['id'], facebook_data))\n",
    "fb_posts['created_at'] = list(map(lambda post: post['created_time'], facebook_data))\n",
    "fb_posts['message'] = list(map(lambda post: post['message'], facebook_data))\n",
    "fb_posts['picture'] = list(map(lambda post: post['picture'], facebook_data))\n",
    "fb_posts['shares'] = list(map(lambda post: post['shares']['count'] if 'shares' in post else 0, facebook_data))\n",
    "\n",
    "likes=[]\n",
    "comments=[]\n",
    "for id in fb_posts['id']:\n",
    "    like = graph.get_connections(id=id, connection_name='likes?summary=1')\n",
    "    likes.append(like['summary']['total_count'])\n",
    "    comment = graph.get_connections(id=id, connection_name='comments?summary=1')\n",
    "    comments.append(comment['summary']['total_count'])\n",
    "fb_posts['like_count'] = likes\n",
    "fb_posts['comments_count'] = comments\n",
    "len_message=[]\n",
    "for message in fb_posts['message']:\n",
    "    len_message.append(len(message))\n",
    "fb_posts['len_message']=len_message"
   ]
  },
  {
   "cell_type": "code",
   "execution_count": 12,
   "metadata": {
    "collapsed": false
   },
   "outputs": [
    {
     "name": "stdout",
     "output_type": "stream",
     "text": [
      "People Talking About\n",
      "8594\n",
      "Total Likes\n",
      "813923\n",
      "Link to Profile\n",
      "https://www.facebook.com/cneistat/\n",
      "Average Likes\n",
      "36705.8\n",
      "Average Shares\n",
      "18751.28\n",
      "Timeline\n",
      "2016-10-04T19:29:05+0000    1\n",
      "2016-11-17T15:27:57+0000    1\n",
      "2017-02-13T16:39:05+0000    1\n",
      "2017-03-14T02:26:40+0000    1\n",
      "2016-12-14T21:00:43+0000    1\n",
      "2016-12-13T19:13:16+0000    1\n",
      "2016-10-05T00:48:26+0000    1\n",
      "2016-12-15T18:51:34+0000    1\n",
      "2017-03-19T18:09:05+0000    1\n",
      "2016-09-21T01:22:03+0000    1\n",
      "2017-03-08T12:20:18+0000    1\n",
      "2016-11-18T22:10:05+0000    1\n",
      "2016-11-09T22:07:34+0000    1\n",
      "2016-12-18T17:38:39+0000    1\n",
      "2016-12-23T23:00:04+0000    1\n",
      "2016-11-19T13:25:43+0000    1\n",
      "2016-12-08T16:49:34+0000    1\n",
      "2016-11-28T18:59:33+0000    1\n",
      "2017-03-11T18:03:07+0000    1\n",
      "2016-09-21T01:23:24+0000    1\n",
      "2016-11-21T14:53:41+0000    1\n",
      "2016-12-28T19:18:28+0000    1\n",
      "2016-12-09T19:22:00+0000    1\n",
      "2016-12-20T13:43:04+0000    1\n",
      "2017-02-17T19:01:15+0000    1\n",
      "Name: created_at, dtype: int64\n",
      "Top Post by Engagement\n",
      "                  created_at  \\\n",
      "8   2016-12-20T13:43:04+0000   \n",
      "7   2016-12-23T23:00:04+0000   \n",
      "22  2016-10-04T19:29:05+0000   \n",
      "15  2016-11-28T18:59:33+0000   \n",
      "3   2017-03-08T12:20:18+0000   \n",
      "9   2016-12-18T17:38:39+0000   \n",
      "24  2016-09-21T01:22:03+0000   \n",
      "14  2016-12-08T16:49:34+0000   \n",
      "17  2016-11-19T13:25:43+0000   \n",
      "0   2017-03-19T18:09:05+0000   \n",
      "\n",
      "                                              message  like_count  shares  \\\n",
      "8          would you let a drone lift you in the sky?      408072  359005   \n",
      "7     move the screen around - see how we made this!!       80573   43366   \n",
      "22  Monday morning selfie with my #gear360 also it...       56497    5937   \n",
      "15  few things in life as scary as starting a new ...       48477    3496   \n",
      "3                           ever been told you can't?       42867   26439   \n",
      "9   Human Flying Drone Holiday movie coming very s...       30116    2674   \n",
      "24  I was shocked to see that this First Class fli...       24927   24377   \n",
      "14                      well good morning los angeles       20634     227   \n",
      "17                                        morning tea       19139     214   \n",
      "0   a UN official called it the worst humanitarian...       16149    1223   \n",
      "\n",
      "    comments_count                                            picture  \n",
      "8            47132  https://scontent.xx.fbcdn.net/v/t15.0-10/s130x...  \n",
      "7             6670  https://scontent.xx.fbcdn.net/v/t15.0-10/s130x...  \n",
      "22            2988  https://scontent.xx.fbcdn.net/v/t1.0-0/p130x13...  \n",
      "15            4364  https://external.xx.fbcdn.net/safe_image.php?d...  \n",
      "3             2539  https://scontent.xx.fbcdn.net/v/t15.0-10/s130x...  \n",
      "9             1106  https://scontent.xx.fbcdn.net/v/t1.0-0/p130x13...  \n",
      "24            6056  https://scontent.xx.fbcdn.net/v/t15.0-10/s130x...  \n",
      "14             549  https://scontent.xx.fbcdn.net/v/t1.0-0/p130x13...  \n",
      "17             876  https://scontent.xx.fbcdn.net/v/t1.0-0/p130x13...  \n",
      "0              248  https://external.xx.fbcdn.net/safe_image.php?d...  \n",
      "Message Length\n",
      "    len_message                                            message  \\\n",
      "6           298  this is my dear friend Scott Harrison's Charit...   \n",
      "15          247  few things in life as scary as starting a new ...   \n",
      "22          144  Monday morning selfie with my #gear360 also it...   \n",
      "10          125  Santa on a snowb0ard.  holiday video productio...   \n",
      "\n",
      "    like_count  shares  comments_count  \\\n",
      "6         9349     304             148   \n",
      "15       48477    3496            4364   \n",
      "22       56497    5937            2988   \n",
      "10       12088     185             215   \n",
      "\n",
      "                                              picture  \n",
      "6   https://external.xx.fbcdn.net/safe_image.php?d...  \n",
      "15  https://external.xx.fbcdn.net/safe_image.php?d...  \n",
      "22  https://scontent.xx.fbcdn.net/v/t1.0-0/p130x13...  \n",
      "10  https://scontent.xx.fbcdn.net/v/t1.0-0/p130x13...  \n"
     ]
    }
   ],
   "source": [
    "print(\"People Talking About\")\n",
    "print(profile['talking_about_count'])\n",
    "print(\"Total Likes\")\n",
    "print(profile['likes'])\n",
    "print(\"Link to Profile\")\n",
    "print(profile['link'])\n",
    "print(\"Average Likes\")\n",
    "print(fb_posts['like_count'].mean())\n",
    "print(\"Average Shares\")\n",
    "print(fb_posts['shares'].mean())\n",
    "print(\"Timeline\")\n",
    "print(fb_posts['created_at'].value_counts())\n",
    "print(\"Top Post by Engagement\")\n",
    "engagement=(fb_posts.sort_values(['like_count'], ascending=[0])).loc[: 10,['created_at','message','like_count','shares','comments_count','picture']]\n",
    "print(engagement[:10])\n",
    "print(\"Message Length\")\n",
    "len_msg=(fb_posts.sort_values(['len_message'], ascending=[0])).loc[: 10,['len_message','message','like_count','shares','comments_count','picture']]\n",
    "print(len_msg[:10])"
   ]
  },
  {
   "cell_type": "code",
   "execution_count": 7,
   "metadata": {
    "collapsed": false
   },
   "outputs": [],
   "source": [
    "len_message=[]\n",
    "for message in fb_posts['message']:\n",
    "    len_message.append(len(message))\n",
    "fb_posts['len_message']=len_message"
   ]
  },
  {
   "cell_type": "code",
   "execution_count": 8,
   "metadata": {
    "collapsed": false
   },
   "outputs": [
    {
     "data": {
      "text/plain": [
       "0      93\n",
       "1      17\n",
       "2      36\n",
       "3      25\n",
       "4       3\n",
       "5     117\n",
       "6     298\n",
       "7      47\n",
       "8      42\n",
       "9     100\n",
       "10    125\n",
       "11    107\n",
       "12    106\n",
       "13     78\n",
       "14     29\n",
       "15    247\n",
       "16     63\n",
       "17     11\n",
       "18     97\n",
       "19     81\n",
       "20     97\n",
       "21     67\n",
       "22    144\n",
       "23     59\n",
       "24     99\n",
       "Name: len_message, dtype: int64"
      ]
     },
     "execution_count": 8,
     "metadata": {},
     "output_type": "execute_result"
    }
   ],
   "source": [
    "fb_posts['len_message']"
   ]
  },
  {
   "cell_type": "code",
   "execution_count": null,
   "metadata": {
    "collapsed": true
   },
   "outputs": [],
   "source": []
  }
 ],
 "metadata": {
  "kernelspec": {
   "display_name": "Python 3",
   "language": "python",
   "name": "python3"
  },
  "language_info": {
   "codemirror_mode": {
    "name": "ipython",
    "version": 3
   },
   "file_extension": ".py",
   "mimetype": "text/x-python",
   "name": "python",
   "nbconvert_exporter": "python",
   "pygments_lexer": "ipython3",
   "version": "3.6.0"
  }
 },
 "nbformat": 4,
 "nbformat_minor": 2
}
